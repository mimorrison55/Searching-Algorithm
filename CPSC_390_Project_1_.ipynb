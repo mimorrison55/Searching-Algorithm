{
  "nbformat": 4,
  "nbformat_minor": 0,
  "metadata": {
    "colab": {
      "provenance": []
    },
    "kernelspec": {
      "name": "python3",
      "display_name": "Python 3"
    },
    "language_info": {
      "name": "python"
    }
  },
  "cells": [
    {
      "cell_type": "markdown",
      "source": [
        "## CPSC 390 Fall 24 Project 1 - Search\n",
        "Name:\n",
        "\n",
        "Team Mate:"
      ],
      "metadata": {
        "id": "VTz-YA-trFE0"
      }
    },
    {
      "cell_type": "markdown",
      "source": [
        "### The following code snippet uses a dictionary of dictionaries to encode the Romania roadmap and demonstrates how to get the elements."
      ],
      "metadata": {
        "id": "wd1v4Be03d2B"
      }
    },
    {
      "cell_type": "code",
      "source": [
        "roadmap = dict(\n",
        "    Arad=dict(Zerind=75, Sibiu=140, Timisoara=118),\n",
        "    Bucharest=dict(Urziceni=85, Pitesti=101, Giurgiu=90, Fagaras=211),\n",
        "    Craiova=dict(Drobeta=120, Rimnicu=146, Pitesti=138),\n",
        "    Drobeta=dict(Craiova=120, Mehadia=75),\n",
        "    Eforie=dict(Hirsova=86),\n",
        "    Fagaras=dict(Bucharest=211, Sibiu=99),\n",
        "    Giurgiu=dict(Bucharest=90),\n",
        "    Hirsova=dict(Eforie=86, Urziceni=98),\n",
        "    Iasi=dict(Vaslui=92, Neamt=87),\n",
        "    Lugoj=dict(Timisoara=111, Mehadia=70),\n",
        "    Mehadia=dict(Lugoj=70, Drobeta=75),\n",
        "    Neamt=dict(Iasi=87),\n",
        "    Oradea=dict(Zerind=71, Sibiu=151),\n",
        "    Pitesti=dict(Bucharest=101, Rimnicu=97, Craiova=138),\n",
        "    Rimnicu=dict(Craiova=146, Sibiu=80, Pitesti=97),\n",
        "    Sibiu=dict(Arad=140, Fagaras=99, Oradea=151, Rimnicu=80),\n",
        "    Timisoara=dict(Arad=118,Lugoj=111),\n",
        "    Vaslui=dict(Iasi=92, Urziceni=98),\n",
        "    Urziceni=dict(Vaslui=142, Bucharest=85, Hirsova=98),\n",
        "    Zerind=dict(Arad=75, Oradea=71))\n",
        "\n",
        "# Print the map elements and do a sanity check -\n",
        "# Please remove or comment out this section in your final submission\n",
        "for city, neighbors in roadmap.items():\n",
        "  print(city, neighbors)\n",
        "  for next_city, distance in neighbors.items():\n",
        "    print(\"  The distance from %s to %s is %d\" % (city, next_city, distance))\n",
        "    if next_city not in roadmap:\n",
        "      print(\" ----- ERROR! %s is not in the city node list -----\" % next_city)\n"
      ],
      "metadata": {
        "id": "MjrZKVm8tLfR",
        "colab": {
          "base_uri": "https://localhost:8080/"
        },
        "outputId": "e73f2fca-26df-4bf0-f2f4-b8baa512954d",
        "collapsed": true
      },
      "execution_count": 13,
      "outputs": [
        {
          "output_type": "stream",
          "name": "stdout",
          "text": [
            "Arad {'Zerind': 75, 'Sibiu': 140, 'Timisoara': 118}\n",
            "  The distance from Arad to Zerind is 75\n",
            "  The distance from Arad to Sibiu is 140\n",
            "  The distance from Arad to Timisoara is 118\n",
            "Bucharest {'Urziceni': 85, 'Pitesti': 101, 'Giurgiu': 90, 'Fagaras': 211}\n",
            "  The distance from Bucharest to Urziceni is 85\n",
            "  The distance from Bucharest to Pitesti is 101\n",
            "  The distance from Bucharest to Giurgiu is 90\n",
            "  The distance from Bucharest to Fagaras is 211\n",
            "Craiova {'Drobeta': 120, 'Rimnicu': 146, 'Pitesti': 138}\n",
            "  The distance from Craiova to Drobeta is 120\n",
            "  The distance from Craiova to Rimnicu is 146\n",
            "  The distance from Craiova to Pitesti is 138\n",
            "Drobeta {'Craiova': 120, 'Mehadia': 75}\n",
            "  The distance from Drobeta to Craiova is 120\n",
            "  The distance from Drobeta to Mehadia is 75\n",
            "Eforie {'Hirsova': 86}\n",
            "  The distance from Eforie to Hirsova is 86\n",
            "Fagaras {'Bucharest': 211, 'Sibiu': 99}\n",
            "  The distance from Fagaras to Bucharest is 211\n",
            "  The distance from Fagaras to Sibiu is 99\n",
            "Giurgiu {'Bucharest': 90}\n",
            "  The distance from Giurgiu to Bucharest is 90\n",
            "Hirsova {'Eforie': 86, 'Urziceni': 98}\n",
            "  The distance from Hirsova to Eforie is 86\n",
            "  The distance from Hirsova to Urziceni is 98\n",
            "Iasi {'Vaslui': 92, 'Neamt': 87}\n",
            "  The distance from Iasi to Vaslui is 92\n",
            "  The distance from Iasi to Neamt is 87\n",
            "Lugoj {'Timisoara': 111, 'Mehadia': 70}\n",
            "  The distance from Lugoj to Timisoara is 111\n",
            "  The distance from Lugoj to Mehadia is 70\n",
            "Mehadia {'Lugoj': 70, 'Drobeta': 75}\n",
            "  The distance from Mehadia to Lugoj is 70\n",
            "  The distance from Mehadia to Drobeta is 75\n",
            "Neamt {'Iasi': 87}\n",
            "  The distance from Neamt to Iasi is 87\n",
            "Oradea {'Zerind': 71, 'Sibiu': 151}\n",
            "  The distance from Oradea to Zerind is 71\n",
            "  The distance from Oradea to Sibiu is 151\n",
            "Pitesti {'Bucharest': 101, 'Rimnicu': 97, 'Craiova': 138}\n",
            "  The distance from Pitesti to Bucharest is 101\n",
            "  The distance from Pitesti to Rimnicu is 97\n",
            "  The distance from Pitesti to Craiova is 138\n",
            "Rimnicu {'Craiova': 146, 'Sibiu': 80, 'Pitesti': 97}\n",
            "  The distance from Rimnicu to Craiova is 146\n",
            "  The distance from Rimnicu to Sibiu is 80\n",
            "  The distance from Rimnicu to Pitesti is 97\n",
            "Sibiu {'Arad': 140, 'Fagaras': 99, 'Oradea': 151, 'Rimnicu': 80}\n",
            "  The distance from Sibiu to Arad is 140\n",
            "  The distance from Sibiu to Fagaras is 99\n",
            "  The distance from Sibiu to Oradea is 151\n",
            "  The distance from Sibiu to Rimnicu is 80\n",
            "Timisoara {'Arad': 118, 'Lugoj': 111}\n",
            "  The distance from Timisoara to Arad is 118\n",
            "  The distance from Timisoara to Lugoj is 111\n",
            "Vaslui {'Iasi': 92, 'Urziceni': 98}\n",
            "  The distance from Vaslui to Iasi is 92\n",
            "  The distance from Vaslui to Urziceni is 98\n",
            "Urziceni {'Vaslui': 142, 'Bucharest': 85, 'Hirsova': 98}\n",
            "  The distance from Urziceni to Vaslui is 142\n",
            "  The distance from Urziceni to Bucharest is 85\n",
            "  The distance from Urziceni to Hirsova is 98\n",
            "Zerind {'Arad': 75, 'Oradea': 71}\n",
            "  The distance from Zerind to Arad is 75\n",
            "  The distance from Zerind to Oradea is 71\n"
          ]
        }
      ]
    },
    {
      "cell_type": "markdown",
      "source": [
        "**Your code starts below.  Please organized them in multiple cells with a formatted text cell before each code cell to explain the purpose of the code cell**"
      ],
      "metadata": {
        "id": "S4k3e_qyr30C"
      }
    },
    {
      "cell_type": "code",
      "source": [
        "# Tree Making\n",
        "tree = dict(\n",
        "    S=dict(A=3, B=1, C=8),\n",
        "    A=dict(D=3, E=7, G=15),\n",
        "    B=dict(G=20),\n",
        "    C=dict(G=5),\n",
        "    D=dict(),\n",
        "    E=dict(),\n",
        "    G=dict())"
      ],
      "metadata": {
        "id": "ZiOuPUz3z-fw"
      },
      "execution_count": 14,
      "outputs": []
    },
    {
      "cell_type": "code",
      "source": [
        "# Breadth First Search Algorithm\n",
        "#def expands(parent):\n",
        "\n",
        "\n",
        "def BFS(map, goal):\n",
        "  for symbol, children in map.items(): # begginings values\n",
        "    state = symbol\n",
        "    frontier = []\n",
        "    for k, v in children.items():\n",
        "      frontier.append([k,v, [state, k]])\n",
        "    reached = [symbol]\n",
        "    for child, cost in children.items(): # creates the initial reached state\n",
        "      reached.append(child)\n",
        "    break\n",
        "  while len(frontier) != 0:\n",
        "    print(\"Expanded Node: \" + state) # printing details\n",
        "    print(\"Frontier: \", end = \" \")\n",
        "    for x in frontier:\n",
        "      print(str(x[:2]) + \",\", end = \" \")\n",
        "    print()\n",
        "\n",
        "    node = frontier.pop(0) ## because of FIFO\n",
        "    state, weight, path = node\n",
        "\n",
        "    if state == goal:\n",
        "      print('GOAL REACHED!') # finish\n",
        "      print('Path: ' + str(path))\n",
        "      print('Cost: ' + str(weight))\n",
        "      return\n",
        "    for child, cost in map.get(state).items():\n",
        "      if child not in reached:\n",
        "        total_path = int(cost) + int(weight)\n",
        "        temp = path.copy()\n",
        "        temp.append(child)\n",
        "        frontier.append([child, total_path, temp])\n",
        "        reached.append(child)\n",
        "      else:\n",
        "        for v in range(len(frontier)):\n",
        "          if child == frontier[v][0] and int(cost) < int(frontier[v][1]):\n",
        "            total_path = int(cost) + int(weight)\n",
        "            temp = path.copy()\n",
        "            temp.append(child)\n",
        "            frontier.append([child, total_path, temp])\n",
        "  return None"
      ],
      "metadata": {
        "id": "RoxM6_koWpzH"
      },
      "execution_count": 15,
      "outputs": []
    },
    {
      "cell_type": "code",
      "source": [
        "bfs_tree = tree.copy()\n",
        "BFS(bfs_tree, 'G')"
      ],
      "metadata": {
        "colab": {
          "base_uri": "https://localhost:8080/"
        },
        "collapsed": true,
        "id": "ELG-PC6HDWV1",
        "outputId": "26a5f283-e926-4486-b258-8b49fa77b81b"
      },
      "execution_count": 16,
      "outputs": [
        {
          "output_type": "stream",
          "name": "stdout",
          "text": [
            "Expanded Node: S\n",
            "Frontier:  ['A', 3], ['B', 1], ['C', 8], \n",
            "Expanded Node: A\n",
            "Frontier:  ['B', 1], ['C', 8], ['D', 6], ['E', 10], ['G', 18], \n",
            "Expanded Node: B\n",
            "Frontier:  ['C', 8], ['D', 6], ['E', 10], ['G', 18], \n",
            "Expanded Node: C\n",
            "Frontier:  ['D', 6], ['E', 10], ['G', 18], ['G', 13], \n",
            "Expanded Node: D\n",
            "Frontier:  ['E', 10], ['G', 18], ['G', 13], \n",
            "Expanded Node: E\n",
            "Frontier:  ['G', 18], ['G', 13], \n",
            "GOAL REACHED!\n",
            "Path: ['S', 'A', 'G']\n",
            "Cost: 18\n"
          ]
        }
      ]
    },
    {
      "cell_type": "code",
      "source": [
        "bfs_roadmap = roadmap.copy()\n",
        "BFS(bfs_roadmap, 'Bucharest')"
      ],
      "metadata": {
        "colab": {
          "base_uri": "https://localhost:8080/"
        },
        "collapsed": true,
        "id": "wpPNJhjk3VMc",
        "outputId": "3681f550-d04d-4198-c09f-0bf313ea473a"
      },
      "execution_count": 18,
      "outputs": [
        {
          "output_type": "stream",
          "name": "stdout",
          "text": [
            "Expanded Node: Arad\n",
            "Frontier:  ['Zerind', 75], ['Sibiu', 140], ['Timisoara', 118], \n",
            "Expanded Node: Zerind\n",
            "Frontier:  ['Sibiu', 140], ['Timisoara', 118], ['Oradea', 146], \n",
            "Expanded Node: Sibiu\n",
            "Frontier:  ['Timisoara', 118], ['Oradea', 146], ['Fagaras', 239], ['Rimnicu', 220], \n",
            "Expanded Node: Timisoara\n",
            "Frontier:  ['Oradea', 146], ['Fagaras', 239], ['Rimnicu', 220], ['Lugoj', 229], \n",
            "Expanded Node: Oradea\n",
            "Frontier:  ['Fagaras', 239], ['Rimnicu', 220], ['Lugoj', 229], \n",
            "Expanded Node: Fagaras\n",
            "Frontier:  ['Rimnicu', 220], ['Lugoj', 229], ['Bucharest', 450], \n",
            "Expanded Node: Rimnicu\n",
            "Frontier:  ['Lugoj', 229], ['Bucharest', 450], ['Craiova', 366], ['Pitesti', 317], \n",
            "Expanded Node: Lugoj\n",
            "Frontier:  ['Bucharest', 450], ['Craiova', 366], ['Pitesti', 317], ['Mehadia', 299], \n",
            "GOAL REACHED!\n",
            "Path: ['Arad', 'Sibiu', 'Fagaras', 'Bucharest']\n",
            "Cost: 450\n"
          ]
        }
      ]
    },
    {
      "cell_type": "code",
      "source": [
        "# Depth Search First\n",
        "def DFS(map, goal):\n",
        "  for symbol, children in map.items(): # begginings values\n",
        "    state = symbol\n",
        "    frontier = []\n",
        "    for k, v in children.items():\n",
        "      frontier.append([k,v, [state, k]])\n",
        "    reached = [symbol]\n",
        "    for child, cost in children.items(): # creates the initial reached state\n",
        "      reached.append(child)\n",
        "    break\n",
        "  while len(frontier) != 0:\n",
        "    print(\"Expanded Node: \" + state) # printing details\n",
        "    print(\"Frontier: \", end = \" \")\n",
        "    for x in frontier:\n",
        "      print(str(x[:2]) + \",\", end = \" \")\n",
        "    print()\n",
        "\n",
        "    node = frontier.pop(0) ## because of LIFO\n",
        "    state, weight, path = node\n",
        "\n",
        "    if state == goal:\n",
        "      print('GOAL REACHED!') # finish\n",
        "      print('Path: ' + str(path))\n",
        "      print('Cost: ' + str(weight))\n",
        "      return\n",
        "\n",
        "    holder = []\n",
        "    for child, cost in map.get(state).items():\n",
        "      if child not in reached:\n",
        "        total_path = int(cost) + int(weight)\n",
        "        temp = path.copy()\n",
        "        temp.append(child)\n",
        "        holder.append([child, total_path, temp]) # LIFO adjustment\n",
        "        reached.append(child)\n",
        "      else:\n",
        "        for v in range(len(frontier)):\n",
        "          if child == frontier[v][0] and int(cost) < int(frontier[v][1]):\n",
        "            total_path = int(cost) + int(weight)\n",
        "            temp = path.copy()\n",
        "            temp.append(child)\n",
        "            holder.append([child, total_path, temp])\n",
        "    frontier = holder + frontier\n",
        "  return None"
      ],
      "metadata": {
        "id": "Kv4NOjon_VT0"
      },
      "execution_count": 19,
      "outputs": []
    },
    {
      "cell_type": "code",
      "source": [
        "dfs_tree = tree.copy()\n",
        "DFS(dfs_tree, 'G')"
      ],
      "metadata": {
        "colab": {
          "base_uri": "https://localhost:8080/"
        },
        "collapsed": true,
        "id": "WBxYXHad_i7u",
        "outputId": "402d11c9-3009-4965-bdea-3ddc6af23302"
      },
      "execution_count": 20,
      "outputs": [
        {
          "output_type": "stream",
          "name": "stdout",
          "text": [
            "Expanded Node: S\n",
            "Frontier:  ['A', 3], ['B', 1], ['C', 8], \n",
            "Expanded Node: A\n",
            "Frontier:  ['D', 6], ['E', 10], ['G', 18], ['B', 1], ['C', 8], \n",
            "Expanded Node: D\n",
            "Frontier:  ['E', 10], ['G', 18], ['B', 1], ['C', 8], \n",
            "Expanded Node: E\n",
            "Frontier:  ['G', 18], ['B', 1], ['C', 8], \n",
            "GOAL REACHED!\n",
            "Path: ['S', 'A', 'G']\n",
            "Cost: 18\n"
          ]
        }
      ]
    },
    {
      "cell_type": "code",
      "source": [
        "dfs_roadmap = roadmap.copy()\n",
        "DFS(dfs_roadmap, 'Bucharest')"
      ],
      "metadata": {
        "colab": {
          "base_uri": "https://localhost:8080/"
        },
        "collapsed": true,
        "id": "-WiY22q5Eyps",
        "outputId": "1e8132a9-42bf-4892-820a-0cfb467ccee4"
      },
      "execution_count": 21,
      "outputs": [
        {
          "output_type": "stream",
          "name": "stdout",
          "text": [
            "Expanded Node: Arad\n",
            "Frontier:  ['Zerind', 75], ['Sibiu', 140], ['Timisoara', 118], \n",
            "Expanded Node: Zerind\n",
            "Frontier:  ['Oradea', 146], ['Sibiu', 140], ['Timisoara', 118], \n",
            "Expanded Node: Oradea\n",
            "Frontier:  ['Sibiu', 140], ['Timisoara', 118], \n",
            "Expanded Node: Sibiu\n",
            "Frontier:  ['Fagaras', 239], ['Rimnicu', 220], ['Timisoara', 118], \n",
            "Expanded Node: Fagaras\n",
            "Frontier:  ['Bucharest', 450], ['Rimnicu', 220], ['Timisoara', 118], \n",
            "GOAL REACHED!\n",
            "Path: ['Arad', 'Sibiu', 'Fagaras', 'Bucharest']\n",
            "Cost: 450\n"
          ]
        }
      ]
    },
    {
      "cell_type": "code",
      "source": [
        "# Adding Heuristics to roadmap\n",
        "hueristic = dict(\n",
        "    Arad=366,\n",
        "    Bucharest=0,\n",
        "    Craiova=160,\n",
        "    Drobeta=242,\n",
        "    Eforie=161,\n",
        "    Fagaras=176,\n",
        "    Giurgiu=77,\n",
        "    Hirsova=151,\n",
        "    Iasi=226,\n",
        "    Lugoj=244,\n",
        "    Mehadia=241,\n",
        "    Neamt=234,\n",
        "    Oradea=380,\n",
        "    Pitesti=100,\n",
        "    Rimnicu=193,\n",
        "    Sibiu=253,\n",
        "    Timisoara=329,\n",
        "    Urziceni=80,\n",
        "    Vaslui=199,\n",
        "    Zerind=374\n",
        ")"
      ],
      "metadata": {
        "id": "UqPGu7JlH7eS"
      },
      "execution_count": 22,
      "outputs": []
    },
    {
      "cell_type": "code",
      "source": [
        "# priority queue for astar\n",
        "def priority_queue(object):\n",
        "  def __init__(self):\n",
        "    self.queue = []\n",
        "\n",
        "  def isEmpty(self):\n",
        "    return len(self.queue) == 0\n",
        "\n",
        "  def"
      ],
      "metadata": {
        "id": "BqevNjMu4Otc"
      },
      "execution_count": null,
      "outputs": []
    },
    {
      "cell_type": "code",
      "source": [
        "lst = [1,2,3]\n",
        "lst.insert(0,4)\n",
        "print(lst)"
      ],
      "metadata": {
        "colab": {
          "base_uri": "https://localhost:8080/"
        },
        "id": "TDHBBl-yEwzE",
        "outputId": "9b73be69-2d2c-42b1-e05f-e7013ee72a14"
      },
      "execution_count": 50,
      "outputs": [
        {
          "output_type": "stream",
          "name": "stdout",
          "text": [
            "[4, 1, 2, 3]\n"
          ]
        }
      ]
    },
    {
      "cell_type": "code",
      "source": [
        "# A* search algorithm\n",
        "def astar(map, huer, goal):\n",
        "  for symbol, children in map.items(): # begginings values\n",
        "    state = symbol\n",
        "    frontier = []\n",
        "    for k, v in children.items(): # for adding to queue by priority\n",
        "      index = 0\n",
        "      if len(frontier) > 0:\n",
        "        for t in range(len(frontier)):\n",
        "          if int(huer.get(k) + v) > int(huer.get(frontier[t][0]) + frontier[t][1]):\n",
        "            index = index + 1\n",
        "      frontier.insert(index, [k,v, [state, k]])\n",
        "    reached = [symbol]\n",
        "    for child, cost in children.items(): # creates the initial reached state\n",
        "      reached.append(child)\n",
        "    break\n",
        "  while len(frontier) != 0:\n",
        "    print(\"Expanded Node: \" + state) # printing details\n",
        "    print(\"Frontier: \", end = \" \")\n",
        "    for x in frontier:\n",
        "      print(str(x[0]) + \"-\" + str(huer.get(x[0]) + x[1]) + \",\" , end = \" \")\n",
        "    print()\n",
        "\n",
        "    node = frontier.pop(0) ## because of LIFO\n",
        "    state, weight, path = node\n",
        "\n",
        "    #print(huer.get(state) + weight)\n",
        "\n",
        "    if state == goal:\n",
        "      print('GOAL REACHED!') # finish\n",
        "      print('Path: ' + str(path))\n",
        "      print('Cost: ' + str(weight))\n",
        "      return\n",
        "\n",
        "    for child, cost in map.get(state).items():\n",
        "      if child not in reached:\n",
        "        total_path = int(cost) + int(weight)\n",
        "        temp = path.copy()\n",
        "        temp.append(child)\n",
        "        index = 0\n",
        "        if len(frontier) > 0:# for adding to queue by priority\n",
        "          for t in range(len(frontier)):\n",
        "            if int(huer.get(child) + total_path) > int(huer.get(frontier[t][0]) + frontier[t][1]):\n",
        "              index = index + 1\n",
        "        frontier.insert(index, [child, total_path, temp])\n",
        "        reached.append(child)\n",
        "      else:\n",
        "        for v in range(len(frontier)):\n",
        "          total_path = int(cost) + int(weight)\n",
        "          if child == frontier[v][0] and int(total_path) < int(frontier[v][1]):\n",
        "            temp = path.copy()\n",
        "            temp.append(child)\n",
        "            index = 0\n",
        "            if len(frontier) > 0: # for adding to queue by priority\n",
        "              for t in range(len(frontier)):\n",
        "                if int(huer.get(child) + total_path) > int(huer.get(frontier[t][0]) + frontier[t][1]):\n",
        "                  index = index + 1\n",
        "            frontier.insert(index, [child, total_path, temp])\n",
        "            break\n",
        "  return None"
      ],
      "metadata": {
        "id": "hYAqGAhXIpOD"
      },
      "execution_count": 73,
      "outputs": []
    },
    {
      "cell_type": "code",
      "source": [
        "astar_roadmap = roadmap.copy()\n",
        "astar_huer = hueristic.copy()\n",
        "astar(astar_roadmap, astar_huer, 'Bucharest')"
      ],
      "metadata": {
        "colab": {
          "base_uri": "https://localhost:8080/"
        },
        "id": "ttvU5hGG_bhH",
        "outputId": "e294cae6-9335-4d9e-cf78-ed248b8ee253"
      },
      "execution_count": 75,
      "outputs": [
        {
          "output_type": "stream",
          "name": "stdout",
          "text": [
            "Expanded Node: Arad\n",
            "Frontier:  Sibiu-393, Timisoara-447, Zerind-449, \n",
            "Expanded Node: Sibiu\n",
            "Frontier:  Rimnicu-413, Fagaras-415, Timisoara-447, Zerind-449, Oradea-671, \n",
            "Expanded Node: Rimnicu\n",
            "Frontier:  Fagaras-415, Pitesti-417, Timisoara-447, Zerind-449, Craiova-526, Oradea-671, \n",
            "Expanded Node: Fagaras\n",
            "Frontier:  Pitesti-417, Timisoara-447, Zerind-449, Bucharest-450, Craiova-526, Oradea-671, \n",
            "Expanded Node: Pitesti\n",
            "Frontier:  Bucharest-418, Timisoara-447, Zerind-449, Bucharest-450, Craiova-526, Oradea-671, \n",
            "GOAL REACHED!\n",
            "Path: ['Arad', 'Sibiu', 'Rimnicu', 'Pitesti', 'Bucharest']\n",
            "Cost: 418\n"
          ]
        }
      ]
    },
    {
      "cell_type": "markdown",
      "source": [
        "**Extra Credit - algorithm analysis**"
      ],
      "metadata": {
        "id": "1EJjcUS0r-Ph"
      }
    },
    {
      "cell_type": "markdown",
      "source": [
        "BFS:\n",
        "  - Time = O(n^3)\n",
        "  - Space = O(n^3)\n",
        "  - Optimal? = not optimal becuase the paths have different weights\n",
        "\n",
        "DFS:\n",
        "  - Time = O(n^3)\n",
        "  - Space = O(3n)\n",
        "  - Optimal? = not optimal becase the solution is chosen by shoosing the first child every time\n",
        "\n",
        "A* Search:\n",
        "  - Time = O(n^4)\n",
        "  - Space = holds entire tree in memory\n",
        "  - Optimal? = yes, the shortest path is found"
      ],
      "metadata": {
        "id": "114tyjFvN7u-"
      }
    }
  ]
}